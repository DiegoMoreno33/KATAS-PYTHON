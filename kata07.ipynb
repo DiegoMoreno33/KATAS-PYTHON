{
 "cells": [
  {
   "cell_type": "markdown",
   "metadata": {},
   "source": [
    "Ejercicio 1"
   ]
  },
  {
   "cell_type": "code",
   "execution_count": null,
   "metadata": {},
   "outputs": [],
   "source": [
    "nuevo_planeta = ''\n",
    "planeta = []\n",
    "while nuevo_planeta.lower() != 'ok':\n",
    "    if nuevo_planeta:\n",
    "        planeta.append(nuevo_planeta)\n",
    "    nuevo_planeta = input('ingresa el nuevo planeta')"
   ]
  },
  {
   "cell_type": "markdown",
   "metadata": {},
   "source": [
    "Ejercicio 2"
   ]
  },
  {
   "cell_type": "code",
   "execution_count": null,
   "metadata": {},
   "outputs": [],
   "source": [
    "for planetass in planeta:\n",
    "    print(planetass)"
   ]
  }
 ],
 "metadata": {
  "language_info": {
   "name": "python"
  },
  "orig_nbformat": 4
 },
 "nbformat": 4,
 "nbformat_minor": 2
}
