{
 "cells": [
  {
   "cell_type": "markdown",
   "metadata": {},
   "source": [
    "Ejercicio 1\n"
   ]
  },
  {
   "cell_type": "code",
   "execution_count": null,
   "metadata": {},
   "outputs": [],
   "source": [
    "def reporte(main_tank, external_tank, hydrogen_tank):\n",
    "    total_average = (main_tank + external_tank + hydrogen_tank) / 3\n",
    "    return f\"\"\" reporte:\n",
    "    promedio: {total_average}%\n",
    "    tanque principal: {main_tank}%\n",
    "    tanque externo: {external_tank}%\n",
    "    tanque de higrogeno {hydrogen_tank}% \n",
    "    \"\"\"\n",
    "print(reporte(80, 70, 85))\n",
    "def average(values):\n",
    "    total = sum(values)\n",
    "    number_of_items = len(values)\n",
    "    return total / number_of_items\n",
    "average([80, 85, 81]) \n",
    "def reporte(main_tank, external_tank, hydrogen_tank):\n",
    "    return f\"\"\"reporte:\n",
    "    promedio: {average([main_tank, external_tank, hydrogen_tank])}%\n",
    "    tanque principal: {main_tank}%\n",
    "    tanque externo: {external_tank}%\n",
    "    tanque de hidrogeno {hydrogen_tank}% \n",
    "    \"\"\"\n",
    "print(reporte(88, 76, 70))"
   ]
  },
  {
   "cell_type": "markdown",
   "metadata": {},
   "source": [
    "Ejercicio 2"
   ]
  },
  {
   "cell_type": "code",
   "execution_count": null,
   "metadata": {},
   "outputs": [],
   "source": [
    "\n",
    "def reporte(pre_launch_time, flight_time, destination, external_tank, main_tank):\n",
    "    return f\"\"\"\n",
    "    Destino: {destination}\n",
    "    Tiempo de viaje total: {pre_launch_time + flight_time} minutos\n",
    "    Gasolina disponible: {external_tank + main_tank} gallons\n",
    "    \"\"\"\n",
    "\n",
    "print(reporte(14, 51, \"Moon\", 200000, 300000))\n",
    "\n",
    "def reporte(destination, *minutes, **fuel_reservoirs):\n",
    "    return f\"\"\"\n",
    "    Destino: {destination}\n",
    "    Tiempo de viaje total<: {sum(minutes)} minutos\n",
    "    GASOLINA DISPONIBLE: {sum(fuel_reservoirs.values())}\n",
    "    \"\"\"\n",
    "\n",
    "print(reporte(\"Moon\", 10, 15, 51, main=300000, external=200000))\n",
    "\n",
    "\n",
    "\n",
    "\n",
    "def reporte(destination, *minutes, **fuel_reservoirs):\n",
    "    main_report = f\"\"\"\n",
    "    Destino {destination}\n",
    "    Tiempo total de viaje {sum(minutes)} minutos\n",
    "    Gasolina disponible: {sum(fuel_reservoirs.values())}\n",
    "    \"\"\"\n",
    "    for tank_name, gallons in fuel_reservoirs.items():\n",
    "        main_report += f\"{tank_name} tanque<: {gallons} gallons siguientes\\n\"\n",
    "    return main_report\n",
    "\n",
    "print(reporte(\"Moon\", 8, 11, 55, main=300000, external=200000))"
   ]
  }
 ],
 "metadata": {
  "language_info": {
   "name": "python"
  },
  "orig_nbformat": 4
 },
 "nbformat": 4,
 "nbformat_minor": 2
}
